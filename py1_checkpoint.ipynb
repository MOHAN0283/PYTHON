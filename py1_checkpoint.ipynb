{
  "cells": [
    {
      "cell_type": "markdown",
      "metadata": {
        "id": "view-in-github",
        "colab_type": "text"
      },
      "source": [
        "<a href=\"https://colab.research.google.com/github/MOHAN0283/PYTHON/blob/main/py1_checkpoint.ipynb\" target=\"_parent\"><img src=\"https://colab.research.google.com/assets/colab-badge.svg\" alt=\"Open In Colab\"/></a>"
      ]
    },
    {
      "cell_type": "markdown",
      "id": "09cbe172",
      "metadata": {
        "id": "09cbe172"
      },
      "source": [
        "## Avgerage of three numbers"
      ]
    },
    {
      "cell_type": "code",
      "execution_count": null,
      "id": "831162ad",
      "metadata": {
        "id": "831162ad",
        "outputId": "9653cfe7-16a2-49bc-a941-2f40fd6c0bf6"
      },
      "outputs": [
        {
          "name": "stdout",
          "output_type": "stream",
          "text": [
            "58.333333333333336\n",
            "<class 'float'>\n"
          ]
        }
      ],
      "source": [
        "x=75\n",
        "y=40\n",
        "z=60\n",
        "a=(x+y+z)/3\n",
        "print(a)\n",
        "print(type(a))"
      ]
    },
    {
      "cell_type": "markdown",
      "id": "ec7d8eba",
      "metadata": {
        "id": "ec7d8eba"
      },
      "source": [
        "## Multiplication of three numbers"
      ]
    },
    {
      "cell_type": "code",
      "execution_count": null,
      "id": "4589d9b0",
      "metadata": {
        "id": "4589d9b0",
        "outputId": "3937dd25-f28c-4b69-acc8-b765645f0b73"
      },
      "outputs": [
        {
          "name": "stdout",
          "output_type": "stream",
          "text": [
            "38250\n",
            "<class 'int'>\n"
          ]
        }
      ],
      "source": [
        "x=10\n",
        "y=45\n",
        "z=85\n",
        "m=x*y*z\n",
        "print(m)\n",
        "print(type(m))"
      ]
    },
    {
      "cell_type": "markdown",
      "id": "68081f49",
      "metadata": {
        "id": "68081f49"
      },
      "source": [
        "## Dynamic addition of two numbers"
      ]
    },
    {
      "cell_type": "code",
      "execution_count": null,
      "id": "0830b51e",
      "metadata": {
        "id": "0830b51e",
        "outputId": "e758b6f7-cf8e-4a04-818b-840ce5693692"
      },
      "outputs": [
        {
          "name": "stdout",
          "output_type": "stream",
          "text": [
            "Enter the number:10\n",
            "Enter the number:20\n",
            "30\n",
            "<class 'int'>\n"
          ]
        }
      ],
      "source": [
        "x=int (input(\"Enter the number:\"))\n",
        "y=int (input(\"Enter the number:\"))\n",
        "s=x+y\n",
        "print(s)\n",
        "print(type(s))"
      ]
    },
    {
      "cell_type": "markdown",
      "id": "60c0df8c",
      "metadata": {
        "id": "60c0df8c"
      },
      "source": [
        "## Dynamic multiplication of three numbers"
      ]
    },
    {
      "cell_type": "code",
      "execution_count": null,
      "id": "1ae1d8e6",
      "metadata": {
        "id": "1ae1d8e6",
        "outputId": "069f4f31-4c31-43c2-af58-04630ee5b013"
      },
      "outputs": [
        {
          "name": "stdout",
          "output_type": "stream",
          "text": [
            "Enter the number:2\n",
            "Enter the number:2\n",
            "Enter the number:2\n",
            "8\n",
            "<class 'int'>\n"
          ]
        }
      ],
      "source": [
        "x=int (input(\"Enter the number:\"))\n",
        "y=int (input(\"Enter the number:\"))\n",
        "z=int (input(\"Enter the number:\"))\n",
        "m=x*y*z\n",
        "print(m)\n",
        "print(type(m))"
      ]
    },
    {
      "cell_type": "markdown",
      "id": "dd610de4",
      "metadata": {
        "id": "dd610de4"
      },
      "source": [
        "## Dynamic average of three numbers"
      ]
    },
    {
      "cell_type": "code",
      "execution_count": null,
      "id": "a9e754c3",
      "metadata": {
        "id": "a9e754c3",
        "outputId": "3f5e6a0a-845e-4737-b265-a3d7c98cfb8a"
      },
      "outputs": [
        {
          "name": "stdout",
          "output_type": "stream",
          "text": [
            "Enter the number:10\n",
            "Enter the number:20\n",
            "Enter the number:30\n",
            "20.0\n",
            "<class 'float'>\n"
          ]
        }
      ],
      "source": [
        "x=int (input(\"Enter the number:\"))\n",
        "y=int (input(\"Enter the number:\"))\n",
        "z=int (input(\"Enter the number:\"))\n",
        "a=(x+y+z)/3\n",
        "print(a)\n",
        "print(type(a))"
      ]
    },
    {
      "cell_type": "markdown",
      "id": "5efdde72",
      "metadata": {
        "id": "5efdde72"
      },
      "source": [
        "## Type conversions\n",
        "### :(1)float to int\n",
        "### :(2)int to float \n",
        "### :(3)string to int-not possible if other characters are given as input\n",
        "### :(4)int to string"
      ]
    },
    {
      "cell_type": "code",
      "execution_count": null,
      "id": "18f6ef40",
      "metadata": {
        "id": "18f6ef40",
        "outputId": "9066eb28-bf8a-49b9-94c7-343af6907be0"
      },
      "outputs": [
        {
          "name": "stdout",
          "output_type": "stream",
          "text": [
            "20\n",
            "<class 'int'>\n",
            "20.0\n",
            "<class 'float'>\n",
            "1\n",
            "<class 'int'>\n",
            "1\n",
            "<class 'str'>\n"
          ]
        }
      ],
      "source": [
        "x=20.5\n",
        "y=int(x)\n",
        "print(y)\n",
        "print(type(y))\n",
        "\n",
        "\n",
        "a=20\n",
        "b=float(a)\n",
        "print(b)\n",
        "print(type(b))\n",
        "\n",
        "\n",
        "l='1'\n",
        "k=int(l)\n",
        "print(k)\n",
        "print(type(k))\n",
        "\n",
        "\n",
        "q=1\n",
        "w=str(q)\n",
        "print(w)\n",
        "print(type(w))\n"
      ]
    },
    {
      "cell_type": "markdown",
      "id": "30e23b72",
      "metadata": {
        "id": "30e23b72"
      },
      "source": [
        "## Boolean "
      ]
    },
    {
      "cell_type": "code",
      "execution_count": null,
      "id": "19976ca7",
      "metadata": {
        "id": "19976ca7",
        "outputId": "60cb27c7-9a18-4cf3-ff73-57102a4b1828"
      },
      "outputs": [
        {
          "name": "stdout",
          "output_type": "stream",
          "text": [
            "False\n",
            "<class 'bool'>\n"
          ]
        }
      ],
      "source": [
        "a=20\n",
        "b=2\n",
        "c=a>b\n",
        "print(c)\n",
        "print(type(c))"
      ]
    },
    {
      "cell_type": "markdown",
      "id": "d189e5ed",
      "metadata": {
        "id": "d189e5ed"
      },
      "source": [
        "## Type conversion\n",
        "### :bool to int\n",
        "### :bool to float\n",
        "### :bool to str"
      ]
    },
    {
      "cell_type": "code",
      "execution_count": null,
      "id": "0f7c3ce5",
      "metadata": {
        "id": "0f7c3ce5",
        "outputId": "fb569a02-f39a-4e21-a354-4b714afffe70"
      },
      "outputs": [
        {
          "name": "stdout",
          "output_type": "stream",
          "text": [
            "True\n",
            "1\n",
            "<class 'bool'>\n",
            "<class 'int'>\n"
          ]
        }
      ],
      "source": [
        "a=20\n",
        "b=2\n",
        "c=a>b\n",
        "d=int(c)\n",
        "print(c)\n",
        "print(d)\n",
        "print(type(c))\n",
        "print(type(d))"
      ]
    },
    {
      "cell_type": "code",
      "execution_count": null,
      "id": "f7634942",
      "metadata": {
        "id": "f7634942",
        "outputId": "9382c5b0-566b-46d2-e7c7-bd47ece93e4a"
      },
      "outputs": [
        {
          "name": "stdout",
          "output_type": "stream",
          "text": [
            "True\n",
            "1.0\n",
            "<class 'bool'>\n",
            "<class 'float'>\n"
          ]
        }
      ],
      "source": [
        "a=20\n",
        "b=2\n",
        "c=a>b\n",
        "d=float(c)\n",
        "print(c)\n",
        "print(d)\n",
        "print(type(c))\n",
        "print(type(d))"
      ]
    },
    {
      "cell_type": "code",
      "execution_count": null,
      "id": "90ff71ea",
      "metadata": {
        "id": "90ff71ea",
        "outputId": "845b3a4b-e55c-4f88-94b4-26a41d8d8154"
      },
      "outputs": [
        {
          "name": "stdout",
          "output_type": "stream",
          "text": [
            "True\n",
            "True\n",
            "<class 'bool'>\n",
            "<class 'str'>\n"
          ]
        }
      ],
      "source": [
        "a=20\n",
        "b=2\n",
        "c=a>b\n",
        "d=str(c)\n",
        "print(c)\n",
        "print(d)\n",
        "print(type(c))\n",
        "print(type(d))"
      ]
    },
    {
      "cell_type": "markdown",
      "id": "dddfe48a",
      "metadata": {
        "id": "dddfe48a"
      },
      "source": [
        "## Complex \n",
        "### :complex to int and float (not possible)\n",
        "### :complex to str\n",
        "### :complex to bool"
      ]
    },
    {
      "cell_type": "code",
      "execution_count": null,
      "id": "70f9c2b1",
      "metadata": {
        "id": "70f9c2b1",
        "outputId": "dd7caf54-df38-443b-8cb4-a2fc955966a6"
      },
      "outputs": [
        {
          "name": "stdout",
          "output_type": "stream",
          "text": [
            "<class 'complex'>\n"
          ]
        }
      ],
      "source": [
        "a=4+4j\n",
        "print(type(a))"
      ]
    },
    {
      "cell_type": "code",
      "execution_count": null,
      "id": "a8abb621",
      "metadata": {
        "id": "a8abb621",
        "outputId": "122975b4-1632-4351-979a-f8a8a2601691"
      },
      "outputs": [
        {
          "name": "stdout",
          "output_type": "stream",
          "text": [
            "<class 'complex'>\n"
          ]
        },
        {
          "ename": "TypeError",
          "evalue": "can't convert complex to int",
          "output_type": "error",
          "traceback": [
            "\u001b[1;31m---------------------------------------------------------------------------\u001b[0m",
            "\u001b[1;31mTypeError\u001b[0m                                 Traceback (most recent call last)",
            "\u001b[1;32m~\\AppData\\Local\\Temp/ipykernel_7428/2918986143.py\u001b[0m in \u001b[0;36m<module>\u001b[1;34m\u001b[0m\n\u001b[0;32m      1\u001b[0m \u001b[0ma\u001b[0m\u001b[1;33m=\u001b[0m\u001b[1;36m4\u001b[0m\u001b[1;33m+\u001b[0m\u001b[1;36m4j\u001b[0m\u001b[1;33m\u001b[0m\u001b[1;33m\u001b[0m\u001b[0m\n\u001b[0;32m      2\u001b[0m \u001b[0mprint\u001b[0m\u001b[1;33m(\u001b[0m\u001b[0mtype\u001b[0m\u001b[1;33m(\u001b[0m\u001b[0ma\u001b[0m\u001b[1;33m)\u001b[0m\u001b[1;33m)\u001b[0m\u001b[1;33m\u001b[0m\u001b[1;33m\u001b[0m\u001b[0m\n\u001b[1;32m----> 3\u001b[1;33m \u001b[0mb\u001b[0m\u001b[1;33m=\u001b[0m\u001b[0mint\u001b[0m\u001b[1;33m(\u001b[0m\u001b[0ma\u001b[0m\u001b[1;33m)\u001b[0m\u001b[1;33m\u001b[0m\u001b[1;33m\u001b[0m\u001b[0m\n\u001b[0m\u001b[0;32m      4\u001b[0m \u001b[0mprint\u001b[0m\u001b[1;33m(\u001b[0m\u001b[0mb\u001b[0m\u001b[1;33m)\u001b[0m\u001b[1;33m\u001b[0m\u001b[1;33m\u001b[0m\u001b[0m\n\u001b[0;32m      5\u001b[0m \u001b[0mprint\u001b[0m\u001b[1;33m(\u001b[0m\u001b[0mtype\u001b[0m\u001b[1;33m(\u001b[0m\u001b[0mb\u001b[0m\u001b[1;33m)\u001b[0m\u001b[1;33m)\u001b[0m\u001b[1;33m\u001b[0m\u001b[1;33m\u001b[0m\u001b[0m\n",
            "\u001b[1;31mTypeError\u001b[0m: can't convert complex to int"
          ]
        }
      ],
      "source": [
        "a=4+4j\n",
        "print(type(a))\n",
        "b=int(a)\n",
        "print(b)\n",
        "print(type(b))"
      ]
    },
    {
      "cell_type": "code",
      "execution_count": null,
      "id": "df96472c",
      "metadata": {
        "id": "df96472c",
        "outputId": "5455f5b8-2e21-4cad-ef1e-9ea23f59510c"
      },
      "outputs": [
        {
          "name": "stdout",
          "output_type": "stream",
          "text": [
            "<class 'complex'>\n",
            "(4+4j)\n",
            "<class 'str'>\n"
          ]
        }
      ],
      "source": [
        "a=4+4j\n",
        "print(type(a))\n",
        "b=str(a)\n",
        "print(b)\n",
        "print(type(b))"
      ]
    },
    {
      "cell_type": "code",
      "execution_count": null,
      "id": "003351d4",
      "metadata": {
        "id": "003351d4",
        "outputId": "cb5e6e59-a3b3-42a3-81fb-05c5dda81acc"
      },
      "outputs": [
        {
          "name": "stdout",
          "output_type": "stream",
          "text": [
            "<class 'complex'>\n",
            "True\n",
            "<class 'bool'>\n"
          ]
        }
      ],
      "source": [
        "a=4+4j\n",
        "print(type(a))\n",
        "b=bool(a)\n",
        "print(b)\n",
        "print(type(b))"
      ]
    },
    {
      "cell_type": "code",
      "execution_count": null,
      "id": "f89a8e3f",
      "metadata": {
        "id": "f89a8e3f"
      },
      "outputs": [],
      "source": [
        ""
      ]
    }
  ],
  "metadata": {
    "kernelspec": {
      "display_name": "Python 3 (ipykernel)",
      "language": "python",
      "name": "python3"
    },
    "language_info": {
      "codemirror_mode": {
        "name": "ipython",
        "version": 3
      },
      "file_extension": ".py",
      "mimetype": "text/x-python",
      "name": "python",
      "nbconvert_exporter": "python",
      "pygments_lexer": "ipython3",
      "version": "3.9.7"
    },
    "colab": {
      "name": "py1-checkpoint.ipynb",
      "provenance": [],
      "include_colab_link": true
    }
  },
  "nbformat": 4,
  "nbformat_minor": 5
}