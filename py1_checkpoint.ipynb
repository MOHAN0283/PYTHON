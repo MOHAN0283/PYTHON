{
  "cells": [
    {
      "cell_type": "markdown",
      "metadata": {
        "id": "view-in-github",
        "colab_type": "text"
      },
      "source": [
        "<a href=\"https://colab.research.google.com/github/MOHAN0283/PYTHON/blob/main/py1_checkpoint.ipynb\" target=\"_parent\"><img src=\"https://colab.research.google.com/assets/colab-badge.svg\" alt=\"Open In Colab\"/></a>"
      ]
    },
    {
      "cell_type": "markdown",
      "id": "09cbe172",
      "metadata": {
        "id": "09cbe172"
      },
      "source": [
        "## Avgerage of three numbers"
      ]
    },
    {
      "cell_type": "code",
      "execution_count": null,
      "id": "831162ad",
      "metadata": {
        "colab": {
          "base_uri": "https://localhost:8080/"
        },
        "id": "831162ad",
        "outputId": "b1344ecd-7e74-4613-b1a3-dbc0f6bc76e4"
      },
      "outputs": [
        {
          "output_type": "stream",
          "name": "stdout",
          "text": [
            "58.333333333333336\n",
            "<class 'float'>\n"
          ]
        }
      ],
      "source": [
        "x=75\n",
        "y=40\n",
        "z=60\n",
        "a=(x+y+z)/3\n",
        "print(a)\n",
        "print(type(a))"
      ]
    },
    {
      "cell_type": "markdown",
      "id": "ec7d8eba",
      "metadata": {
        "id": "ec7d8eba"
      },
      "source": [
        "## Multiplication of three numbers"
      ]
    },
    {
      "cell_type": "code",
      "execution_count": null,
      "id": "4589d9b0",
      "metadata": {
        "colab": {
          "base_uri": "https://localhost:8080/"
        },
        "id": "4589d9b0",
        "outputId": "71959cfc-8f62-413e-d92e-74cb1acefb12"
      },
      "outputs": [
        {
          "output_type": "stream",
          "name": "stdout",
          "text": [
            "38250\n",
            "<class 'int'>\n"
          ]
        }
      ],
      "source": [
        "x=10\n",
        "y=45\n",
        "z=85\n",
        "m=x*y*z\n",
        "print(m)\n",
        "print(type(m))"
      ]
    },
    {
      "cell_type": "markdown",
      "id": "68081f49",
      "metadata": {
        "id": "68081f49"
      },
      "source": [
        "## Dynamic addition of two numbers"
      ]
    },
    {
      "cell_type": "code",
      "execution_count": null,
      "id": "0830b51e",
      "metadata": {
        "id": "0830b51e",
        "outputId": "e758b6f7-cf8e-4a04-818b-840ce5693692"
      },
      "outputs": [
        {
          "name": "stdout",
          "output_type": "stream",
          "text": [
            "Enter the number:10\n",
            "Enter the number:20\n",
            "30\n",
            "<class 'int'>\n"
          ]
        }
      ],
      "source": [
        "x=int (input(\"Enter the number:\"))\n",
        "y=int (input(\"Enter the number:\"))\n",
        "s=x+y\n",
        "print(s)\n",
        "print(type(s))"
      ]
    },
    {
      "cell_type": "markdown",
      "id": "60c0df8c",
      "metadata": {
        "id": "60c0df8c"
      },
      "source": [
        "## Dynamic multiplication of three numbers"
      ]
    },
    {
      "cell_type": "code",
      "execution_count": null,
      "id": "1ae1d8e6",
      "metadata": {
        "id": "1ae1d8e6",
        "outputId": "069f4f31-4c31-43c2-af58-04630ee5b013"
      },
      "outputs": [
        {
          "name": "stdout",
          "output_type": "stream",
          "text": [
            "Enter the number:2\n",
            "Enter the number:2\n",
            "Enter the number:2\n",
            "8\n",
            "<class 'int'>\n"
          ]
        }
      ],
      "source": [
        "x=int (input(\"Enter the number:\"))\n",
        "y=int (input(\"Enter the number:\"))\n",
        "z=int (input(\"Enter the number:\"))\n",
        "m=x*y*z\n",
        "print(m)\n",
        "print(type(m))"
      ]
    },
    {
      "cell_type": "markdown",
      "id": "dd610de4",
      "metadata": {
        "id": "dd610de4"
      },
      "source": [
        "## Dynamic average of three numbers"
      ]
    },
    {
      "cell_type": "code",
      "execution_count": null,
      "id": "a9e754c3",
      "metadata": {
        "id": "a9e754c3",
        "outputId": "3f5e6a0a-845e-4737-b265-a3d7c98cfb8a"
      },
      "outputs": [
        {
          "name": "stdout",
          "output_type": "stream",
          "text": [
            "Enter the number:10\n",
            "Enter the number:20\n",
            "Enter the number:30\n",
            "20.0\n",
            "<class 'float'>\n"
          ]
        }
      ],
      "source": [
        "x=int (input(\"Enter the number:\"))\n",
        "y=int (input(\"Enter the number:\"))\n",
        "z=int (input(\"Enter the number:\"))\n",
        "a=(x+y+z)/3\n",
        "print(a)\n",
        "print(type(a))"
      ]
    },
    {
      "cell_type": "markdown",
      "id": "5efdde72",
      "metadata": {
        "id": "5efdde72"
      },
      "source": [
        "## Type conversions\n",
        "### :(1)float to int\n",
        "### :(2)int to float \n",
        "### :(3)string to int-not possible if other characters are given as input\n",
        "### :(4)int to string"
      ]
    },
    {
      "cell_type": "code",
      "execution_count": null,
      "id": "18f6ef40",
      "metadata": {
        "id": "18f6ef40",
        "outputId": "9066eb28-bf8a-49b9-94c7-343af6907be0"
      },
      "outputs": [
        {
          "name": "stdout",
          "output_type": "stream",
          "text": [
            "20\n",
            "<class 'int'>\n",
            "20.0\n",
            "<class 'float'>\n",
            "1\n",
            "<class 'int'>\n",
            "1\n",
            "<class 'str'>\n"
          ]
        }
      ],
      "source": [
        "x=20.5\n",
        "y=int(x)\n",
        "print(y)\n",
        "print(type(y))\n",
        "\n",
        "\n",
        "a=20\n",
        "b=float(a)\n",
        "print(b)\n",
        "print(type(b))\n",
        "\n",
        "\n",
        "l='1'\n",
        "k=int(l)\n",
        "print(k)\n",
        "print(type(k))\n",
        "\n",
        "\n",
        "q=1\n",
        "w=str(q)\n",
        "print(w)\n",
        "print(type(w))\n"
      ]
    },
    {
      "cell_type": "markdown",
      "id": "30e23b72",
      "metadata": {
        "id": "30e23b72"
      },
      "source": [
        "## Boolean "
      ]
    },
    {
      "cell_type": "code",
      "execution_count": null,
      "id": "19976ca7",
      "metadata": {
        "id": "19976ca7",
        "outputId": "60cb27c7-9a18-4cf3-ff73-57102a4b1828"
      },
      "outputs": [
        {
          "name": "stdout",
          "output_type": "stream",
          "text": [
            "False\n",
            "<class 'bool'>\n"
          ]
        }
      ],
      "source": [
        "a=20\n",
        "b=2\n",
        "c=a>b\n",
        "print(c)\n",
        "print(type(c))"
      ]
    },
    {
      "cell_type": "markdown",
      "id": "d189e5ed",
      "metadata": {
        "id": "d189e5ed"
      },
      "source": [
        "## Type conversion\n",
        "### :bool to int\n",
        "### :bool to float\n",
        "### :bool to str"
      ]
    },
    {
      "cell_type": "code",
      "execution_count": null,
      "id": "0f7c3ce5",
      "metadata": {
        "id": "0f7c3ce5",
        "outputId": "fb569a02-f39a-4e21-a354-4b714afffe70"
      },
      "outputs": [
        {
          "name": "stdout",
          "output_type": "stream",
          "text": [
            "True\n",
            "1\n",
            "<class 'bool'>\n",
            "<class 'int'>\n"
          ]
        }
      ],
      "source": [
        "a=20\n",
        "b=2\n",
        "c=a>b\n",
        "d=int(c)\n",
        "print(c)\n",
        "print(d)\n",
        "print(type(c))\n",
        "print(type(d))"
      ]
    },
    {
      "cell_type": "code",
      "execution_count": null,
      "id": "f7634942",
      "metadata": {
        "id": "f7634942",
        "outputId": "9382c5b0-566b-46d2-e7c7-bd47ece93e4a"
      },
      "outputs": [
        {
          "name": "stdout",
          "output_type": "stream",
          "text": [
            "True\n",
            "1.0\n",
            "<class 'bool'>\n",
            "<class 'float'>\n"
          ]
        }
      ],
      "source": [
        "a=20\n",
        "b=2\n",
        "c=a>b\n",
        "d=float(c)\n",
        "print(c)\n",
        "print(d)\n",
        "print(type(c))\n",
        "print(type(d))"
      ]
    },
    {
      "cell_type": "code",
      "execution_count": null,
      "id": "90ff71ea",
      "metadata": {
        "id": "90ff71ea",
        "outputId": "845b3a4b-e55c-4f88-94b4-26a41d8d8154"
      },
      "outputs": [
        {
          "name": "stdout",
          "output_type": "stream",
          "text": [
            "True\n",
            "True\n",
            "<class 'bool'>\n",
            "<class 'str'>\n"
          ]
        }
      ],
      "source": [
        "a=20\n",
        "b=2\n",
        "c=a>b\n",
        "d=str(c)\n",
        "print(c)\n",
        "print(d)\n",
        "print(type(c))\n",
        "print(type(d))"
      ]
    },
    {
      "cell_type": "markdown",
      "id": "dddfe48a",
      "metadata": {
        "id": "dddfe48a"
      },
      "source": [
        "## Complex \n",
        "### :complex to int and float (not possible)\n",
        "### :complex to str\n",
        "### :complex to bool"
      ]
    },
    {
      "cell_type": "code",
      "execution_count": null,
      "id": "70f9c2b1",
      "metadata": {
        "id": "70f9c2b1",
        "outputId": "dd7caf54-df38-443b-8cb4-a2fc955966a6"
      },
      "outputs": [
        {
          "name": "stdout",
          "output_type": "stream",
          "text": [
            "<class 'complex'>\n"
          ]
        }
      ],
      "source": [
        "a=4+4j\n",
        "print(type(a))"
      ]
    },
    {
      "cell_type": "code",
      "execution_count": null,
      "id": "a8abb621",
      "metadata": {
        "id": "a8abb621",
        "outputId": "122975b4-1632-4351-979a-f8a8a2601691"
      },
      "outputs": [
        {
          "name": "stdout",
          "output_type": "stream",
          "text": [
            "<class 'complex'>\n"
          ]
        },
        {
          "ename": "TypeError",
          "evalue": "can't convert complex to int",
          "output_type": "error",
          "traceback": [
            "\u001b[1;31m---------------------------------------------------------------------------\u001b[0m",
            "\u001b[1;31mTypeError\u001b[0m                                 Traceback (most recent call last)",
            "\u001b[1;32m~\\AppData\\Local\\Temp/ipykernel_7428/2918986143.py\u001b[0m in \u001b[0;36m<module>\u001b[1;34m\u001b[0m\n\u001b[0;32m      1\u001b[0m \u001b[0ma\u001b[0m\u001b[1;33m=\u001b[0m\u001b[1;36m4\u001b[0m\u001b[1;33m+\u001b[0m\u001b[1;36m4j\u001b[0m\u001b[1;33m\u001b[0m\u001b[1;33m\u001b[0m\u001b[0m\n\u001b[0;32m      2\u001b[0m \u001b[0mprint\u001b[0m\u001b[1;33m(\u001b[0m\u001b[0mtype\u001b[0m\u001b[1;33m(\u001b[0m\u001b[0ma\u001b[0m\u001b[1;33m)\u001b[0m\u001b[1;33m)\u001b[0m\u001b[1;33m\u001b[0m\u001b[1;33m\u001b[0m\u001b[0m\n\u001b[1;32m----> 3\u001b[1;33m \u001b[0mb\u001b[0m\u001b[1;33m=\u001b[0m\u001b[0mint\u001b[0m\u001b[1;33m(\u001b[0m\u001b[0ma\u001b[0m\u001b[1;33m)\u001b[0m\u001b[1;33m\u001b[0m\u001b[1;33m\u001b[0m\u001b[0m\n\u001b[0m\u001b[0;32m      4\u001b[0m \u001b[0mprint\u001b[0m\u001b[1;33m(\u001b[0m\u001b[0mb\u001b[0m\u001b[1;33m)\u001b[0m\u001b[1;33m\u001b[0m\u001b[1;33m\u001b[0m\u001b[0m\n\u001b[0;32m      5\u001b[0m \u001b[0mprint\u001b[0m\u001b[1;33m(\u001b[0m\u001b[0mtype\u001b[0m\u001b[1;33m(\u001b[0m\u001b[0mb\u001b[0m\u001b[1;33m)\u001b[0m\u001b[1;33m)\u001b[0m\u001b[1;33m\u001b[0m\u001b[1;33m\u001b[0m\u001b[0m\n",
            "\u001b[1;31mTypeError\u001b[0m: can't convert complex to int"
          ]
        }
      ],
      "source": [
        "a=4+4j\n",
        "print(type(a))\n",
        "b=int(a)\n",
        "print(b)\n",
        "print(type(b))"
      ]
    },
    {
      "cell_type": "code",
      "execution_count": null,
      "id": "df96472c",
      "metadata": {
        "id": "df96472c",
        "outputId": "5455f5b8-2e21-4cad-ef1e-9ea23f59510c"
      },
      "outputs": [
        {
          "name": "stdout",
          "output_type": "stream",
          "text": [
            "<class 'complex'>\n",
            "(4+4j)\n",
            "<class 'str'>\n"
          ]
        }
      ],
      "source": [
        "a=4+4j\n",
        "print(type(a))\n",
        "b=str(a)\n",
        "print(b)\n",
        "print(type(b))"
      ]
    },
    {
      "cell_type": "code",
      "execution_count": null,
      "id": "003351d4",
      "metadata": {
        "id": "003351d4",
        "outputId": "cb5e6e59-a3b3-42a3-81fb-05c5dda81acc"
      },
      "outputs": [
        {
          "name": "stdout",
          "output_type": "stream",
          "text": [
            "<class 'complex'>\n",
            "True\n",
            "<class 'bool'>\n"
          ]
        }
      ],
      "source": [
        "a=4+4j\n",
        "print(type(a))\n",
        "b=bool(a)\n",
        "print(b)\n",
        "print(type(b))"
      ]
    },
    {
      "cell_type": "markdown",
      "source": [
        "CONTROL STATEMENTS:\n",
        "\n",
        "(1)if(dynamic,static)\n",
        "\n",
        "(2)Greatest of three numbers\n",
        "\n",
        "(3)Greatest of 5 numbers"
      ],
      "metadata": {
        "id": "HoFzETwarhjv"
      },
      "id": "HoFzETwarhjv"
    },
    {
      "cell_type": "code",
      "execution_count": null,
      "id": "f89a8e3f",
      "metadata": {
        "colab": {
          "base_uri": "https://localhost:8080/"
        },
        "id": "f89a8e3f",
        "outputId": "9fc37ce9-6c8f-4094-9ffe-3fa154532cd1"
      },
      "outputs": [
        {
          "output_type": "stream",
          "name": "stdout",
          "text": [
            "Enter the age:18\n",
            "Eligible for voting\n"
          ]
        }
      ],
      "source": [
        "a=int(input(\"Enter the age:\"))\n",
        "if a>=18:\n",
        "    print(\"Eligible for voting\")\n",
        "else:\n",
        "    print(\"Not eligible for voting\")"
      ]
    },
    {
      "cell_type": "markdown",
      "source": [
        ""
      ],
      "metadata": {
        "id": "PI02a3nhrRQx"
      },
      "id": "PI02a3nhrRQx"
    },
    {
      "cell_type": "code",
      "source": [
        "a=20\n",
        "if a>=18:\n",
        "    print(\"Eligible for voting\")\n",
        "else:\n",
        "    print(\"Not eligible for voting\")"
      ],
      "metadata": {
        "colab": {
          "base_uri": "https://localhost:8080/"
        },
        "id": "NzfWioTPrR0w",
        "outputId": "09482f70-76fe-4386-9c04-07bc225e2d23"
      },
      "id": "NzfWioTPrR0w",
      "execution_count": null,
      "outputs": [
        {
          "output_type": "stream",
          "name": "stdout",
          "text": [
            "Eligible for voting\n"
          ]
        }
      ]
    },
    {
      "cell_type": "code",
      "source": [
        "a=int(input(\"Enter the number a:\"))\n",
        "b=int(input(\"Enter the number b:\"))\n",
        "c=int(input(\"Enter the number c:\"))\n",
        "if a>b and a>c:\n",
        "    print(f\"{a} is greatest\")\n",
        "elif b>c:\n",
        "    print(f\"{b} is greatest\")\n",
        "else:\n",
        "    print(f\"{c} is greatest\")"
      ],
      "metadata": {
        "colab": {
          "base_uri": "https://localhost:8080/"
        },
        "id": "ra6iSSOwrffH",
        "outputId": "95ca5744-822d-4ea7-c253-770faf40cc91"
      },
      "id": "ra6iSSOwrffH",
      "execution_count": null,
      "outputs": [
        {
          "output_type": "stream",
          "name": "stdout",
          "text": [
            "Enter the number a:5\n",
            "Enter the number b:10\n",
            "Enter the number c:15\n",
            "15 is greatest\n"
          ]
        }
      ]
    },
    {
      "cell_type": "code",
      "source": [
        "a=int(input(\"Enter the number a:\"))\n",
        "b=int(input(\"Enter the number b:\"))\n",
        "c=int(input(\"Enter the number c:\"))\n",
        "d=int(input(\"Enter the number d:\"))\n",
        "e=int(input(\"Enter the number e:\"))\n",
        "if a>b and a>c and a>d and a>e:\n",
        "    print(f\"{a} is greatest\")\n",
        "elif b>c and b>d and b>e:\n",
        "    print(f\"{b} is greatest\")\n",
        "elif c>d and c>e:\n",
        "    print(f\"{c} is greatest\")\n",
        "elif d>e:\n",
        "    print(f\"{d} is greatest\")\n",
        "else:\n",
        "    print(f\"{e} is greatest\")"
      ],
      "metadata": {
        "colab": {
          "base_uri": "https://localhost:8080/"
        },
        "id": "S5rhgokDuZ-W",
        "outputId": "a5589c7f-38b9-4846-8b51-d446636a9a8c"
      },
      "id": "S5rhgokDuZ-W",
      "execution_count": null,
      "outputs": [
        {
          "output_type": "stream",
          "name": "stdout",
          "text": [
            "Enter the number a:4\n",
            "Enter the number b:5\n",
            "Enter the number c:6\n",
            "Enter the number d:8\n",
            "Enter the number e:1\n",
            "8 is greatest\n"
          ]
        }
      ]
    },
    {
      "cell_type": "code",
      "source": [
        "for i in range(1, 6):\n",
        "  print(i)"
      ],
      "metadata": {
        "colab": {
          "base_uri": "https://localhost:8080/"
        },
        "id": "i7BTAsMcwT5z",
        "outputId": "c20f150f-1916-4fd7-bd14-b298af633dd0"
      },
      "id": "i7BTAsMcwT5z",
      "execution_count": null,
      "outputs": [
        {
          "output_type": "stream",
          "name": "stdout",
          "text": [
            "1\n",
            "2\n",
            "3\n",
            "4\n",
            "5\n"
          ]
        }
      ]
    },
    {
      "cell_type": "code",
      "source": [
        "print(\"Even:\")\n",
        "for i in range(1,10):\n",
        "  if (i%2==0):\n",
        "    print(i)\n",
        "print(\"Odd:\")\n",
        "for i in range(1,10):\n",
        "  if (i%2==0):\n",
        "    continue\n",
        "  else:\n",
        "    print(i)    \n"
      ],
      "metadata": {
        "colab": {
          "base_uri": "https://localhost:8080/"
        },
        "id": "ufmf9AajzfSy",
        "outputId": "05a86952-4564-4b1d-9592-50fd45546139"
      },
      "id": "ufmf9AajzfSy",
      "execution_count": null,
      "outputs": [
        {
          "output_type": "stream",
          "name": "stdout",
          "text": [
            "Even:\n",
            "2\n",
            "4\n",
            "6\n",
            "8\n",
            "Odd:\n",
            "1\n",
            "3\n",
            "5\n",
            "7\n",
            "9\n"
          ]
        }
      ]
    },
    {
      "cell_type": "code",
      "source": [
        "print(\"ODD:\")\n",
        "for i in range(1, 100, 2):\n",
        "  print(i)\n",
        "print(\"EVEN:\")  \n",
        "for i in range(0, 100, 2):\n",
        "  print(i)"
      ],
      "metadata": {
        "colab": {
          "base_uri": "https://localhost:8080/"
        },
        "id": "iZVPMgTn2qxA",
        "outputId": "69f543dd-5963-4b8e-8c82-71e5abb84c9b"
      },
      "id": "iZVPMgTn2qxA",
      "execution_count": null,
      "outputs": [
        {
          "output_type": "stream",
          "name": "stdout",
          "text": [
            "ODD:\n",
            "1\n",
            "3\n",
            "5\n",
            "7\n",
            "9\n",
            "11\n",
            "13\n",
            "15\n",
            "17\n",
            "19\n",
            "21\n",
            "23\n",
            "25\n",
            "27\n",
            "29\n",
            "31\n",
            "33\n",
            "35\n",
            "37\n",
            "39\n",
            "41\n",
            "43\n",
            "45\n",
            "47\n",
            "49\n",
            "51\n",
            "53\n",
            "55\n",
            "57\n",
            "59\n",
            "61\n",
            "63\n",
            "65\n",
            "67\n",
            "69\n",
            "71\n",
            "73\n",
            "75\n",
            "77\n",
            "79\n",
            "81\n",
            "83\n",
            "85\n",
            "87\n",
            "89\n",
            "91\n",
            "93\n",
            "95\n",
            "97\n",
            "99\n",
            "EVEN:\n",
            "0\n",
            "2\n",
            "4\n",
            "6\n",
            "8\n",
            "10\n",
            "12\n",
            "14\n",
            "16\n",
            "18\n",
            "20\n",
            "22\n",
            "24\n",
            "26\n",
            "28\n",
            "30\n",
            "32\n",
            "34\n",
            "36\n",
            "38\n",
            "40\n",
            "42\n",
            "44\n",
            "46\n",
            "48\n",
            "50\n",
            "52\n",
            "54\n",
            "56\n",
            "58\n",
            "60\n",
            "62\n",
            "64\n",
            "66\n",
            "68\n",
            "70\n",
            "72\n",
            "74\n",
            "76\n",
            "78\n",
            "80\n",
            "82\n",
            "84\n",
            "86\n",
            "88\n",
            "90\n",
            "92\n",
            "94\n",
            "96\n",
            "98\n"
          ]
        }
      ]
    },
    {
      "cell_type": "markdown",
      "source": [
        "https://infytq.onwingspan.com/en/page/home\n",
        "https://snakify.org/en/\n",
        "https://www.indiabix.com/\n",
        "https://www.hackerrank.com/"
      ],
      "metadata": {
        "id": "Rd2XKWtmB-tk"
      },
      "id": "Rd2XKWtmB-tk"
    },
    {
      "cell_type": "code",
      "source": [
        "a=int(input(\"Enter a value:\"))\n",
        "b=int(input(\"Enter a value:\"))\n",
        "c=int(input(\"Enter a value:\"))\n",
        "if a==b and b==c and c==a:\n",
        "  print(\"EQUILATERAL\")\n",
        "elif a==b or b==c or c==a:\n",
        "  print(\"ISOSCELES\")\n",
        "elif a!=b and b!=c and c!=a:\n",
        "  print(\"SCALENE\")\n",
        "else:\n",
        "  print(\"INVALID\")"
      ],
      "metadata": {
        "colab": {
          "base_uri": "https://localhost:8080/"
        },
        "id": "yyg3c2wJOo9j",
        "outputId": "8ae29a1c-b601-4ae5-8747-bfe3cdeeb78f"
      },
      "id": "yyg3c2wJOo9j",
      "execution_count": 3,
      "outputs": [
        {
          "output_type": "stream",
          "name": "stdout",
          "text": [
            "Enter a value:3\n",
            "Enter a value:2\n",
            "Enter a value:1\n",
            "SCALENE\n"
          ]
        }
      ]
    },
    {
      "cell_type": "code",
      "source": [
        "a=int(input(\"Enter a value:\"))\n",
        "if (a%100==0)and(a%400==0):\n",
        "  print(\"Leap year\")\n",
        "elif(a%100!=0)and(a%4==0):\n",
        "  print(\"leap year\")\n",
        "else:\n",
        "  print(\"not a leap year\")"
      ],
      "metadata": {
        "colab": {
          "base_uri": "https://localhost:8080/"
        },
        "id": "4s0t3jmyB4G2",
        "outputId": "6b9c7f2b-7f6d-41a9-8b4c-1200099e531e"
      },
      "id": "4s0t3jmyB4G2",
      "execution_count": 1,
      "outputs": [
        {
          "output_type": "stream",
          "name": "stdout",
          "text": [
            "Enter a value:2020\n",
            "leap year\n"
          ]
        }
      ]
    },
    {
      "cell_type": "code",
      "source": [
        "a=int(input(\"Enter the number a:\"))\n",
        "b=int(input(\"Enter the number b:\"))\n",
        "c=int(input(\"Enter the number c:\"))\n",
        "if a<b and a<c:\n",
        "    print(f\"{a} is minimum\")\n",
        "elif b<c:\n",
        "    print(f\"{b} is minimum\")\n",
        "else:\n",
        "    print(f\"{c} is minimum\")"
      ],
      "metadata": {
        "colab": {
          "base_uri": "https://localhost:8080/"
        },
        "id": "IgI9BqJqOO0G",
        "outputId": "7924ecef-7515-40ec-d246-19c6a692535e"
      },
      "id": "IgI9BqJqOO0G",
      "execution_count": 5,
      "outputs": [
        {
          "output_type": "stream",
          "name": "stdout",
          "text": [
            "Enter the number a:3\n",
            "Enter the number b:5\n",
            "Enter the number c:4\n",
            "3 is minimum\n"
          ]
        }
      ]
    },
    {
      "cell_type": "code",
      "source": [
        "a=int(input(\"Enter the number a:\"))\n",
        "if (a%5==0)and(a%11==0):\n",
        "  print(\"nmber is divisible by both 5 and 11\")\n",
        "else:\n",
        "  print(\"not divisible by 5 and 11\")"
      ],
      "metadata": {
        "colab": {
          "base_uri": "https://localhost:8080/"
        },
        "id": "IQmZKdVFP_3D",
        "outputId": "b11ff7f2-b1ed-4fc4-e665-b54c9b3bb8e0"
      },
      "id": "IQmZKdVFP_3D",
      "execution_count": 6,
      "outputs": [
        {
          "output_type": "stream",
          "name": "stdout",
          "text": [
            "Enter the number a:55\n",
            "nmber is divisible by both 5 and 11\n"
          ]
        }
      ]
    },
    {
      "cell_type": "code",
      "source": [
        "a=int(input(\"Enter a value:\"))\n",
        "if a>0:\n",
        "  print(\"positive\")\n",
        "elif a<0:\n",
        "  print(\"negitive\")\n",
        "else:\n",
        "  print(\"0\")"
      ],
      "metadata": {
        "colab": {
          "base_uri": "https://localhost:8080/"
        },
        "id": "wQ6gCcCDQcxb",
        "outputId": "76a1fca4-e197-4a81-9cd8-830ec5a97058"
      },
      "id": "wQ6gCcCDQcxb",
      "execution_count": 7,
      "outputs": [
        {
          "output_type": "stream",
          "name": "stdout",
          "text": [
            "Enter a value:0\n",
            "0\n"
          ]
        }
      ]
    },
    {
      "cell_type": "code",
      "source": [
        "a=int(input(\"Enter coefficient of x^2:\"))\n",
        "b=int(input(\"Enter coefficient of x:\"))\n",
        "c=int(input(\"Enter constant:\"))\n",
        "d=(b**2)-(4*a*c)\n",
        "sd=d**(1/2)\n",
        "r1=(-b+sd)/(2*a)\n",
        "r2=(b+sd)/(2*a)\n",
        "print(r1,r2)"
      ],
      "metadata": {
        "colab": {
          "base_uri": "https://localhost:8080/"
        },
        "id": "pH56rmLiQhCb",
        "outputId": "a670e991-1db9-46e8-dac6-35ac83cec45c"
      },
      "id": "pH56rmLiQhCb",
      "execution_count": 8,
      "outputs": [
        {
          "output_type": "stream",
          "name": "stdout",
          "text": [
            "Enter coefficient of x^2:1\n",
            "Enter coefficient of x:2\n",
            "Enter constant:1\n",
            "-1.0 1.0\n"
          ]
        }
      ]
    },
    {
      "cell_type": "code",
      "source": [
        "a=int(input(\"Enter a:\"))\n",
        "fact=1\n",
        "for i in range(1,a+1):\n",
        "  fact=fact*i\n",
        "print(fact)  "
      ],
      "metadata": {
        "colab": {
          "base_uri": "https://localhost:8080/"
        },
        "id": "ag7X-HiwRUk8",
        "outputId": "cc86f098-0017-4ea3-9dfe-29eae5880ff4"
      },
      "id": "ag7X-HiwRUk8",
      "execution_count": 9,
      "outputs": [
        {
          "output_type": "stream",
          "name": "stdout",
          "text": [
            "Enter a:5\n",
            "120\n"
          ]
        }
      ]
    },
    {
      "cell_type": "code",
      "source": [
        "a=int(input(\"Enter a:\"))\n",
        "k=a\n",
        "p=0\n",
        "while a>0:\n",
        "  rem=a%10\n",
        "  p=p*10+rem\n",
        "  a=a//10\n",
        "if (k==p):\n",
        "  print(\"p\")\n",
        "else:\n",
        "  print(\"np\")"
      ],
      "metadata": {
        "colab": {
          "base_uri": "https://localhost:8080/"
        },
        "id": "UZA_vRvRR1JM",
        "outputId": "4238a294-593f-4f4e-dcc9-8e023b8bc7ce"
      },
      "id": "UZA_vRvRR1JM",
      "execution_count": 10,
      "outputs": [
        {
          "output_type": "stream",
          "name": "stdout",
          "text": [
            "Enter a:121\n",
            "p\n"
          ]
        }
      ]
    },
    {
      "cell_type": "code",
      "source": [
        "a=int(input(\"Enter a:\"))\n",
        "k=a\n",
        "p=0\n",
        "for i in range(1,a):\n",
        "  if(a%i==0):\n",
        "    p=p+i\n",
        "if (k==p):\n",
        "  print(\"p\")\n",
        "else:\n",
        "  print(\"np\")"
      ],
      "metadata": {
        "colab": {
          "base_uri": "https://localhost:8080/"
        },
        "id": "ODfB_bEDSlnL",
        "outputId": "5cac3f9f-8674-4cd4-ff82-93b1d17cbffc"
      },
      "id": "ODfB_bEDSlnL",
      "execution_count": 12,
      "outputs": [
        {
          "output_type": "stream",
          "name": "stdout",
          "text": [
            "Enter a:6\n",
            "p\n"
          ]
        }
      ]
    },
    {
      "cell_type": "code",
      "source": [
        "a=int(input(\"Enter a:\"))\n",
        "n1=0\n",
        "n2=1\n",
        "print(n1)\n",
        "print(n2)\n",
        "n3=0\n",
        "while(n3<a):\n",
        "  n3=n1+n2\n",
        "  print(n3)\n",
        "  n1=n2\n",
        "  n2=n3"
      ],
      "metadata": {
        "colab": {
          "base_uri": "https://localhost:8080/"
        },
        "id": "fM9cAsxbThir",
        "outputId": "ef44ba44-06d6-4597-a188-e0829cf99a40"
      },
      "id": "fM9cAsxbThir",
      "execution_count": 19,
      "outputs": [
        {
          "output_type": "stream",
          "name": "stdout",
          "text": [
            "Enter a:10\n",
            "0\n",
            "1\n",
            "1\n",
            "2\n",
            "3\n",
            "5\n",
            "8\n",
            "13\n"
          ]
        }
      ]
    },
    {
      "cell_type": "code",
      "source": [
        "a=int(input(\"Enter a:\"))\n",
        "b=int(input(\"Enter b:\"))\n",
        "\n"
      ],
      "metadata": {
        "id": "mBkXTopVVPTM"
      },
      "id": "mBkXTopVVPTM",
      "execution_count": null,
      "outputs": []
    }
  ],
  "metadata": {
    "kernelspec": {
      "display_name": "Python 3 (ipykernel)",
      "language": "python",
      "name": "python3"
    },
    "language_info": {
      "codemirror_mode": {
        "name": "ipython",
        "version": 3
      },
      "file_extension": ".py",
      "mimetype": "text/x-python",
      "name": "python",
      "nbconvert_exporter": "python",
      "pygments_lexer": "ipython3",
      "version": "3.9.7"
    },
    "colab": {
      "name": "py1-checkpoint.ipynb",
      "provenance": [],
      "include_colab_link": true
    }
  },
  "nbformat": 4,
  "nbformat_minor": 5
}