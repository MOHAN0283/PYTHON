{
  "cells": [
    {
      "cell_type": "markdown",
      "metadata": {
        "id": "view-in-github",
        "colab_type": "text"
      },
      "source": [
        "<a href=\"https://colab.research.google.com/github/MOHAN0283/PYTHON/blob/main/pandas.ipynb\" target=\"_parent\"><img src=\"https://colab.research.google.com/assets/colab-badge.svg\" alt=\"Open In Colab\"/></a>"
      ]
    },
    {
      "cell_type": "code",
      "execution_count": null,
      "id": "0d1ce9fe-d03c-449b-a34f-711d4e1dc10b",
      "metadata": {
        "id": "0d1ce9fe-d03c-449b-a34f-711d4e1dc10b"
      },
      "outputs": [],
      "source": [
        "import pandas"
      ]
    },
    {
      "cell_type": "code",
      "execution_count": null,
      "id": "742c7046-313d-4b44-8af5-36991e972934",
      "metadata": {
        "id": "742c7046-313d-4b44-8af5-36991e972934",
        "outputId": "24e8ed82-f62c-486e-88b2-9564b6dceecd"
      },
      "outputs": [
        {
          "data": {
            "text/plain": [
              "'1.3.4'"
            ]
          },
          "execution_count": 4,
          "metadata": {},
          "output_type": "execute_result"
        }
      ],
      "source": [
        "import pandas\n",
        "pandas.__version__"
      ]
    },
    {
      "cell_type": "code",
      "execution_count": null,
      "id": "11bf2e02-8928-4c00-a065-25ae54231b40",
      "metadata": {
        "id": "11bf2e02-8928-4c00-a065-25ae54231b40",
        "outputId": "caa09548-375d-4c77-9d50-6c2b145a82f2"
      },
      "outputs": [
        {
          "name": "stdout",
          "output_type": "stream",
          "text": [
            "  donation time                 amount of donation\n",
            "0       morning                      less than 5kg\n",
            "1     afternoon  less than 10 and greater than 5kg\n",
            "2         night                     more than 10kg\n"
          ]
        }
      ],
      "source": [
        "import pandas\n",
        "\n",
        "mydataset = {\n",
        "  'donation time': [\"morning\", \"afternoon\", \"night\"],\n",
        "    \n",
        "  'amount of donation': ['less than 5kg','less than 10 and greater than 5kg',' more than 10kg']\n",
        "}\n",
        "myvar = pandas.DataFrame(mydataset)\n",
        "\n",
        "print(myvar)\n",
        "myvar.to_csv('mk1')\n"
      ]
    },
    {
      "cell_type": "code",
      "execution_count": null,
      "id": "aa7d9181-8352-4cda-9b91-1332c8a7d533",
      "metadata": {
        "id": "aa7d9181-8352-4cda-9b91-1332c8a7d533",
        "outputId": "3b505040-68a6-40f7-d83e-cf70fc9f4f5b"
      },
      "outputs": [
        {
          "name": "stdout",
          "output_type": "stream",
          "text": [
            "   s.no                  veg  Unnamed: 2          non veg\n",
            "0     0  panner butte masala         NaN  chicken biryani\n",
            "1     1                momos         NaN    chickenpakoda\n",
            "2     2          butter naan         NaN     mutton pulsu\n"
          ]
        }
      ],
      "source": [
        "import pandas as pd\n",
        "\n",
        "mk = pd.read_csv('Book1.csv')\n",
        "\n",
        "print(mk.to_string()) "
      ]
    },
    {
      "cell_type": "code",
      "execution_count": null,
      "id": "f5f09112",
      "metadata": {
        "id": "f5f09112",
        "outputId": "c8fff50e-f389-4df6-dd84-a149415e9e61"
      },
      "outputs": [
        {
          "name": "stdout",
          "output_type": "stream",
          "text": [
            "0    a\n",
            "1    b\n",
            "2    c\n",
            "dtype: object\n",
            "a\n"
          ]
        }
      ],
      "source": [
        "# series one dimensional array and coloumn\n",
        "import pandas as pd\n",
        "a=['a','b','c']\n",
        "b=pd.Series(a)\n",
        "print(b)\n",
        "print(a[0]) #we can print element by labeling"
      ]
    },
    {
      "cell_type": "code",
      "execution_count": null,
      "id": "b4078c22",
      "metadata": {
        "id": "b4078c22",
        "outputId": "7285999b-2832-4f79-9315-1980bcc553cc"
      },
      "outputs": [
        {
          "name": "stdout",
          "output_type": "stream",
          "text": [
            "x    a\n",
            "y    b\n",
            "z    c\n",
            "dtype: object\n",
            "a\n"
          ]
        }
      ],
      "source": [
        "# creating labels\n",
        "a=['a','b','c']\n",
        "b=pd.Series(a,index=['x','y','z'])\n",
        "print(b)\n",
        "print(b['x'])"
      ]
    },
    {
      "cell_type": "code",
      "execution_count": null,
      "id": "04dfdb3d",
      "metadata": {
        "id": "04dfdb3d",
        "outputId": "7447b0b3-3f4c-4774-dba1-ee5a92210665"
      },
      "outputs": [
        {
          "name": "stdout",
          "output_type": "stream",
          "text": [
            "m     80\n",
            "p     70\n",
            "c    100\n",
            "dtype: int64\n"
          ]
        }
      ],
      "source": [
        "a={'m':80,'p':70,'c':100}#pandas from dict\n",
        "b=pd.Series(a)\n",
        "print(b)"
      ]
    },
    {
      "cell_type": "code",
      "execution_count": null,
      "id": "b113a6fe",
      "metadata": {
        "id": "b113a6fe",
        "outputId": "0c3822d7-960d-4acf-e895-d459d691cd7e"
      },
      "outputs": [
        {
          "name": "stdout",
          "output_type": "stream",
          "text": [
            "m      80\n",
            "p       o\n",
            "c    97.5\n",
            "dtype: object\n"
          ]
        }
      ],
      "source": [
        "a={'m':80,'p':'o','c':97.5}#pandas from deict and type order is obj,float,int\n",
        "b=pd.Series(a)\n",
        "print(b)"
      ]
    },
    {
      "cell_type": "code",
      "execution_count": null,
      "id": "510d3284",
      "metadata": {
        "id": "510d3284",
        "outputId": "5708474f-6a16-4f76-8fe8-11d8a1aa39cd"
      },
      "outputs": [
        {
          "name": "stdout",
          "output_type": "stream",
          "text": [
            "m    80\n",
            "p    70\n",
            "dtype: int64\n"
          ]
        }
      ],
      "source": [
        "a={'m':80,'p':70,'c':100}#pandas from dict and printing specified labels\n",
        "b=pd.Series(a,index=['m','p'])\n",
        "print(b)"
      ]
    },
    {
      "cell_type": "code",
      "execution_count": null,
      "id": "f7bf0ffa",
      "metadata": {
        "id": "f7bf0ffa",
        "outputId": "1b1136d2-c4d7-4308-fa72-a738ea341e5e"
      },
      "outputs": [
        {
          "name": "stdout",
          "output_type": "stream",
          "text": [
            "   a  b\n",
            "0  1  4\n",
            "1  2  5\n",
            "2  3  6\n",
            "a    1\n",
            "b    4\n",
            "Name: 0, dtype: int64\n"
          ]
        }
      ],
      "source": [
        "# locate rows specifies one or more rows\n",
        "a={'a':[1,2,3],\n",
        "  'b':[4,5,6]}\n",
        "b=pd.DataFrame(a)\n",
        "print(b)\n",
        "print(b.loc[0])"
      ]
    },
    {
      "cell_type": "code",
      "execution_count": null,
      "id": "cb4efcc5",
      "metadata": {
        "id": "cb4efcc5",
        "outputId": "750ce366-b06a-4829-a47f-2479152f7214"
      },
      "outputs": [
        {
          "name": "stdout",
          "output_type": "stream",
          "text": [
            "   a  b\n",
            "0  1  4\n",
            "1  2  5\n",
            "2  3  6\n",
            "   a  b\n",
            "0  1  4\n",
            "1  2  5\n"
          ]
        }
      ],
      "source": [
        "# locate rows specifies one or more rows\n",
        "a={'a':[1,2,3],\n",
        "  'b':[4,5,6]}\n",
        "b=pd.DataFrame(a)\n",
        "print(b)\n",
        "print(b.loc[[0,1]])"
      ]
    },
    {
      "cell_type": "code",
      "execution_count": null,
      "id": "ea3febb1",
      "metadata": {
        "id": "ea3febb1",
        "outputId": "c07cd830-fadf-49f8-ad95-4dedfdc066be"
      },
      "outputs": [
        {
          "name": "stdout",
          "output_type": "stream",
          "text": [
            "   x  y\n",
            "a  1  4\n",
            "b  2  5\n",
            "c  3  6\n"
          ]
        }
      ],
      "source": [
        "# we can use index to give specified index\n",
        "a={'x':[1,2,3],\n",
        "  'y':[4,5,6]}\n",
        "b=pd.DataFrame(a,index=['a','b','c'])\n",
        "print(b)\n"
      ]
    },
    {
      "cell_type": "code",
      "execution_count": null,
      "id": "1894c7b6",
      "metadata": {
        "id": "1894c7b6",
        "outputId": "49a57e75-ef3f-44bf-cf40-d1d0fbade5e6"
      },
      "outputs": [
        {
          "name": "stdout",
          "output_type": "stream",
          "text": [
            "   x  y\n",
            "a  1  4\n",
            "b  2  5\n",
            "c  3  6\n",
            "x    1\n",
            "y    4\n",
            "Name: a, dtype: int64\n"
          ]
        }
      ],
      "source": [
        "# using locate to locate specified rows\n",
        "a={'x':[1,2,3],\n",
        "  'y':[4,5,6]}\n",
        "b=pd.DataFrame(a,index=['a','b','c'])\n",
        "print(b)\n",
        "print(b.loc['a'])"
      ]
    },
    {
      "cell_type": "code",
      "execution_count": null,
      "id": "b7bcf71a",
      "metadata": {
        "id": "b7bcf71a",
        "outputId": "75f845ef-5e3b-4222-b099-1ec0be32e5b6"
      },
      "outputs": [
        {
          "name": "stdout",
          "output_type": "stream",
          "text": [
            "  subject  marks  rank\n",
            "0       m     80  <250\n",
            "1       p     74  <200\n",
            "2       c    100   <10\n",
            "  subject  marks  rank\n",
            "0       m     80  <250\n",
            "1       p     74  <200\n",
            "2       c    100   <10\n"
          ]
        }
      ],
      "source": [
        "a=pd.read_csv(\"mk.csv\")\n",
        "print(a.to_string())\n",
        "print(a)\n",
        "#If you have a large DataFrame with many rows, Pandas will only return the first 5 rows, and the last 5 rows"
      ]
    },
    {
      "cell_type": "code",
      "execution_count": null,
      "id": "83dae899",
      "metadata": {
        "id": "83dae899",
        "outputId": "05c77811-8250-4c9f-cc40-37af74f957a7"
      },
      "outputs": [
        {
          "name": "stdout",
          "output_type": "stream",
          "text": [
            "60\n"
          ]
        }
      ],
      "source": [
        "import pandas as pd\n",
        "\n",
        "print(pd.options.display.max_rows) \n",
        "#check max rows if 60 then hewadings and first and last 5 rows are returned"
      ]
    },
    {
      "cell_type": "code",
      "execution_count": null,
      "id": "42fdc4fa",
      "metadata": {
        "id": "42fdc4fa",
        "outputId": "ef8206b3-d75c-4a46-ae92-7e2113eb79f3"
      },
      "outputs": [
        {
          "name": "stdout",
          "output_type": "stream",
          "text": [
            "  subject  marks  rank\n",
            "0       m     80  <250\n",
            "1       p     74  <200\n",
            "2       c    100   <10\n"
          ]
        }
      ],
      "source": [
        "# we can change the max_rows values\n",
        "pd.options.display.max_rows=1000\n",
        "a=pd.read_csv(\"mk.csv\")\n",
        "print(a)"
      ]
    },
    {
      "cell_type": "code",
      "execution_count": null,
      "id": "e35b5bef",
      "metadata": {
        "id": "e35b5bef"
      },
      "outputs": [],
      "source": [
        "#importing, exporting, changing name of pandas, knowing the version name,naming the series,index,deleting values in csv(dropna)"
      ]
    },
    {
      "cell_type": "code",
      "execution_count": null,
      "id": "b97eb78a",
      "metadata": {
        "id": "b97eb78a",
        "outputId": "f149ccf4-3a89-45e9-b209-567d1240cc67"
      },
      "outputs": [
        {
          "name": "stdout",
          "output_type": "stream",
          "text": [
            "  subject  marks  rank\n",
            "0       m     80  <250\n",
            "1       p     74  <200\n"
          ]
        }
      ],
      "source": [
        "a=pd.read_csv('mk.csv') #remove rows consisting empty values\n",
        "b=a.dropna()\n",
        "print(b)"
      ]
    },
    {
      "cell_type": "code",
      "execution_count": null,
      "id": "52d154e6",
      "metadata": {
        "id": "52d154e6",
        "outputId": "a324c9ad-a36d-4dfc-995e-023a9214e9f5"
      },
      "outputs": [
        {
          "name": "stdout",
          "output_type": "stream",
          "text": [
            "  subject  marks  rank\n",
            "0       m     80  <250\n",
            "1       p     74  <200\n"
          ]
        }
      ],
      "source": [
        "import pandas as pd\n",
        "a = pd.read_csv('mk.csv')#remove rows with empty cells in the same data frame\n",
        "a.dropna(inplace = True)\n",
        "print(a.to_string())"
      ]
    },
    {
      "cell_type": "code",
      "execution_count": null,
      "id": "96971ebe",
      "metadata": {
        "id": "96971ebe",
        "outputId": "38cbcf1f-b02d-4d1a-ac8b-85204ce4d604"
      },
      "outputs": [
        {
          "name": "stdout",
          "output_type": "stream",
          "text": [
            "  subject  marks  rank\n",
            "0       m     80  <250\n",
            "1       p     74   <10\n",
            "2       c    100   <10\n"
          ]
        }
      ],
      "source": [
        "import pandas as pd\n",
        "a = pd.read_csv('mk.csv')#replace empty cells with values\n",
        "a.fillna('<10',inplace = True)\n",
        "print(a.to_string())"
      ]
    },
    {
      "cell_type": "code",
      "execution_count": null,
      "id": "0ab817b0",
      "metadata": {
        "id": "0ab817b0",
        "outputId": "46df9b9a-34ce-43f8-8d3d-7ff56143cbd3"
      },
      "outputs": [
        {
          "name": "stdout",
          "output_type": "stream",
          "text": [
            "  subject  marks  rank\n",
            "0       m   80.0  <250\n",
            "1       p    NaN   <10\n",
            "2       c  100.0   <10\n"
          ]
        }
      ],
      "source": [
        "import pandas as pd\n",
        "a = pd.read_csv('mk.csv')#replace empty cells with values on specified coloumns\n",
        "a['rank'].fillna('<10',inplace = True)\n",
        "print(a.to_string())"
      ]
    },
    {
      "cell_type": "code",
      "execution_count": null,
      "id": "2ee5a69c",
      "metadata": {
        "id": "2ee5a69c",
        "outputId": "6e0d437c-5d9a-4337-ba70-d9f37fe99264"
      },
      "outputs": [
        {
          "name": "stdout",
          "output_type": "stream",
          "text": [
            "  subject  marks  rank\n",
            "0       m   80.0  <250\n",
            "1       p   90.0   NaN\n",
            "2       c  100.0   NaN\n"
          ]
        }
      ],
      "source": [
        "import pandas as pd\n",
        "\n",
        "a = pd.read_csv('mk.csv')# fill empty values with mean\n",
        "\n",
        "x = a[\"marks\"].mean()\n",
        "\n",
        "a[\"marks\"].fillna(x, inplace = True)\n",
        "print(a)"
      ]
    },
    {
      "cell_type": "code",
      "execution_count": null,
      "id": "eedd2f53",
      "metadata": {
        "id": "eedd2f53",
        "outputId": "c8b43766-f978-4bb5-ca6a-0b2a7c187243"
      },
      "outputs": [
        {
          "name": "stdout",
          "output_type": "stream",
          "text": [
            "  subject  marks  rank\n",
            "0       m   80.0  <250\n",
            "1       p   90.0   NaN\n",
            "2       c  100.0   NaN\n"
          ]
        }
      ],
      "source": [
        "import pandas as pd\n",
        "\n",
        "a = pd.read_csv('mk.csv')# fill empty values with median \n",
        "\n",
        "x = a[\"marks\"].median()\n",
        "\n",
        "a[\"marks\"].fillna(x, inplace = True)\n",
        "print(a)"
      ]
    },
    {
      "cell_type": "code",
      "execution_count": null,
      "id": "6b166be5",
      "metadata": {
        "id": "6b166be5",
        "outputId": "a4d57a94-9489-44cc-9f66-1c856947bb59"
      },
      "outputs": [
        {
          "name": "stdout",
          "output_type": "stream",
          "text": [
            "  subject  marks  rank\n",
            "0       m   80.0  <250\n",
            "1       p   80.0   NaN\n",
            "2       c  100.0   NaN\n"
          ]
        }
      ],
      "source": [
        "import pandas as pd\n",
        "\n",
        "a = pd.read_csv('mk.csv')# fill empty values with mode\n",
        "\n",
        "x = a[\"marks\"].mode()[0]\n",
        "\n",
        "a[\"marks\"].fillna(x, inplace = True)\n",
        "print(a)"
      ]
    },
    {
      "cell_type": "code",
      "execution_count": null,
      "id": "d4cf46fd",
      "metadata": {
        "id": "d4cf46fd",
        "outputId": "c0246b11-c047-4819-95f1-c09f6c2eb67d"
      },
      "outputs": [
        {
          "name": "stdout",
          "output_type": "stream",
          "text": [
            "  subject  marks  rank       date\n",
            "0       m     80  <250 2022-05-13\n",
            "1       p    100  <100 2022-05-13\n",
            "2       c    100   <50 2022-05-13\n"
          ]
        }
      ],
      "source": [
        "import pandas as pd\n",
        "\n",
        "df = pd.read_csv('mk.csv')\n",
        "\n",
        "df['date'] = pd.to_datetime(df['date'])\n",
        "\n",
        "print(df.to_string())"
      ]
    },
    {
      "cell_type": "code",
      "execution_count": null,
      "id": "d5a40e6c",
      "metadata": {
        "id": "d5a40e6c"
      },
      "outputs": [],
      "source": [
        "import json"
      ]
    },
    {
      "cell_type": "code",
      "source": [
        "x='{\"name\":\"Mohan\",\"age\":\"18\",\"city\":\"vizag\"}'\n",
        "y=json.loads(x)\n",
        "print(y)"
      ],
      "metadata": {
        "colab": {
          "base_uri": "https://localhost:8080/"
        },
        "id": "-uXxUuHDKfys",
        "outputId": "e0756f22-aa23-43df-afc0-fff28b3c69db"
      },
      "id": "-uXxUuHDKfys",
      "execution_count": null,
      "outputs": [
        {
          "output_type": "stream",
          "name": "stdout",
          "text": [
            "{'name': 'Mohan', 'age': '18', 'city': 'vizag'}\n"
          ]
        }
      ]
    },
    {
      "cell_type": "code",
      "source": [
        ""
      ],
      "metadata": {
        "colab": {
          "base_uri": "https://localhost:8080/"
        },
        "id": "uxlF53FIMIfv",
        "outputId": "85c8c30a-d74c-48e3-d7d5-5c05b243ee78"
      },
      "id": "uxlF53FIMIfv",
      "execution_count": null,
      "outputs": [
        {
          "output_type": "stream",
          "name": "stdout",
          "text": [
            "\"{\\\"name\\\":\\\"Mohan\\\",\\\"age\\\":\\\"18\\\",\\\"city\\\":\\\"vizag\\\"}\"\n"
          ]
        }
      ]
    }
  ],
  "metadata": {
    "kernelspec": {
      "display_name": "Python 3 (ipykernel)",
      "language": "python",
      "name": "python3"
    },
    "language_info": {
      "codemirror_mode": {
        "name": "ipython",
        "version": 3
      },
      "file_extension": ".py",
      "mimetype": "text/x-python",
      "name": "python",
      "nbconvert_exporter": "python",
      "pygments_lexer": "ipython3",
      "version": "3.9.7"
    },
    "colab": {
      "name": "pandas.ipynb",
      "provenance": [],
      "include_colab_link": true
    }
  },
  "nbformat": 4,
  "nbformat_minor": 5
}