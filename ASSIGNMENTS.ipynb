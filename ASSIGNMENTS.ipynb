{
  "nbformat": 4,
  "nbformat_minor": 0,
  "metadata": {
    "colab": {
      "name": "ASSIGNMENTS",
      "provenance": [],
      "authorship_tag": "ABX9TyMU+qWWNlk5mVDFt0uIsI8Q",
      "include_colab_link": true
    },
    "kernelspec": {
      "name": "python3",
      "display_name": "Python 3"
    },
    "language_info": {
      "name": "python"
    }
  },
  "cells": [
    {
      "cell_type": "markdown",
      "metadata": {
        "id": "view-in-github",
        "colab_type": "text"
      },
      "source": [
        "<a href=\"https://colab.research.google.com/github/MOHAN0283/PYTHON/blob/main/ASSIGNMENTS.ipynb\" target=\"_parent\"><img src=\"https://colab.research.google.com/assets/colab-badge.svg\" alt=\"Open In Colab\"/></a>"
      ]
    },
    {
      "cell_type": "code",
      "execution_count": null,
      "metadata": {
        "id": "0mbXGaWH3HDd",
        "colab": {
          "base_uri": "https://localhost:8080/"
        },
        "outputId": "953d9758-f08a-45b8-d44b-72fd348619b8"
      },
      "outputs": [
        {
          "output_type": "stream",
          "name": "stdout",
          "text": [
            "['MOHANA KRISHNA']\n"
          ]
        }
      ],
      "source": [
        "name=['MOHANA KRISHNA']\n",
        "print(name)"
      ]
    },
    {
      "cell_type": "code",
      "source": [
        "name=['M','O','H','A','N','A',' ','K','R','I','S','H','N','A']\n",
        "print(name)"
      ],
      "metadata": {
        "colab": {
          "base_uri": "https://localhost:8080/"
        },
        "id": "13PfFK10AWpI",
        "outputId": "7c450165-6ce7-41c3-e590-67ff17ee95e1"
      },
      "execution_count": null,
      "outputs": [
        {
          "output_type": "stream",
          "name": "stdout",
          "text": [
            "['M', 'O', 'H', 'A', 'N', 'A', ' ', 'K', 'R', 'I', 'S', 'H', 'N', 'A']\n"
          ]
        }
      ]
    },
    {
      "cell_type": "code",
      "source": [
        "name=['M','O','H','A','N','A',' ','K','R','I','S','H','N','A']\n",
        "print(len(name))"
      ],
      "metadata": {
        "colab": {
          "base_uri": "https://localhost:8080/"
        },
        "id": "R8xZUuXNA4Qa",
        "outputId": "0e77284e-849d-448b-c2b3-17a669ad856c"
      },
      "execution_count": null,
      "outputs": [
        {
          "output_type": "stream",
          "name": "stdout",
          "text": [
            "14\n"
          ]
        }
      ]
    },
    {
      "cell_type": "code",
      "source": [
        "name=['M','O','H','A','N','A',' ','K','R','I','S','H','N','A']\n",
        "print(type(name))"
      ],
      "metadata": {
        "colab": {
          "base_uri": "https://localhost:8080/"
        },
        "id": "l4K9ybyBBDNz",
        "outputId": "0be3c69b-7982-4b2e-87d9-4f1921b47c4d"
      },
      "execution_count": null,
      "outputs": [
        {
          "output_type": "stream",
          "name": "stdout",
          "text": [
            "<class 'list'>\n"
          ]
        }
      ]
    },
    {
      "cell_type": "code",
      "source": [
        "name=list(('M','O','H','A','N','A',' ','K','R','I','S','H','N','A'))\n",
        "print(type(name))"
      ],
      "metadata": {
        "colab": {
          "base_uri": "https://localhost:8080/"
        },
        "id": "NQ8ClA66BT3K",
        "outputId": "31699ee7-9e80-4ef8-ba08-908c3d4b60f4"
      },
      "execution_count": null,
      "outputs": [
        {
          "output_type": "stream",
          "name": "stdout",
          "text": [
            "<class 'list'>\n"
          ]
        }
      ]
    },
    {
      "cell_type": "code",
      "source": [
        "name=['M','O','H','A','N','A',' ','K','R','I','S','H','N','A']\n",
        "print(name[0])"
      ],
      "metadata": {
        "colab": {
          "base_uri": "https://localhost:8080/"
        },
        "id": "tX8hS-czBxmM",
        "outputId": "01c5b983-bd9d-48ac-dc6e-93ddd4387e31"
      },
      "execution_count": null,
      "outputs": [
        {
          "output_type": "stream",
          "name": "stdout",
          "text": [
            "M\n"
          ]
        }
      ]
    },
    {
      "cell_type": "code",
      "source": [
        "name=['M','O','H','A','N','A',' ','K','R','I','S','H','N','A']\n",
        "print(name[0:6])"
      ],
      "metadata": {
        "colab": {
          "base_uri": "https://localhost:8080/"
        },
        "id": "E9l28CfICUhd",
        "outputId": "b8e701d7-7391-4bc7-b648-90ad3601698d"
      },
      "execution_count": null,
      "outputs": [
        {
          "output_type": "stream",
          "name": "stdout",
          "text": [
            "['M', 'O', 'H', 'A', 'N', 'A']\n"
          ]
        }
      ]
    },
    {
      "cell_type": "code",
      "source": [
        "name=['M','O','H','A','N','A',' ','K','R','I','S','H','N','A']\n",
        "print(name[:5])"
      ],
      "metadata": {
        "colab": {
          "base_uri": "https://localhost:8080/"
        },
        "id": "a0oWkUFuCh3E",
        "outputId": "036ddfcb-b504-4376-b02c-6c07871930a2"
      },
      "execution_count": null,
      "outputs": [
        {
          "output_type": "stream",
          "name": "stdout",
          "text": [
            "['M', 'O', 'H', 'A', 'N']\n"
          ]
        }
      ]
    },
    {
      "cell_type": "code",
      "source": [
        "name=['M','O','H','A','N','A',' ','K','R','I','S','H','N','A']\n",
        "print(name[7:])"
      ],
      "metadata": {
        "colab": {
          "base_uri": "https://localhost:8080/"
        },
        "id": "Ulym0iTiCoqg",
        "outputId": "7308b5ea-29bb-4160-e5c8-2f65f7dd9f21"
      },
      "execution_count": null,
      "outputs": [
        {
          "output_type": "stream",
          "name": "stdout",
          "text": [
            "['K', 'R', 'I', 'S', 'H', 'N', 'A']\n"
          ]
        }
      ]
    },
    {
      "cell_type": "code",
      "source": [
        "name=['M','O','H','A','N','A',' ','K','R','I','S','H','N','A']\n",
        "print(name[-7:-1])"
      ],
      "metadata": {
        "colab": {
          "base_uri": "https://localhost:8080/"
        },
        "id": "3iHO6PRiCzhP",
        "outputId": "5a8e5b99-2f14-4d00-e111-64eb582937f1"
      },
      "execution_count": null,
      "outputs": [
        {
          "output_type": "stream",
          "name": "stdout",
          "text": [
            "['K', 'R', 'I', 'S', 'H', 'N']\n"
          ]
        }
      ]
    },
    {
      "cell_type": "code",
      "source": [
        "name=['M','O','H','A','N','A',' ','K','R','I','S','H','N','A']\n",
        "if 'M' in name:\n",
        "  print(\"yes\")"
      ],
      "metadata": {
        "id": "uwMAojtJDhKn",
        "colab": {
          "base_uri": "https://localhost:8080/"
        },
        "outputId": "ec66b04a-2d5c-440b-a1e7-51478f79612b"
      },
      "execution_count": 26,
      "outputs": [
        {
          "output_type": "stream",
          "name": "stdout",
          "text": [
            "yes\n"
          ]
        }
      ]
    },
    {
      "cell_type": "code",
      "source": [
        "name=['M','O','H','A','N','A',' ','K','R','I','S','H','N','A']\n",
        "name[6]='-'\n",
        "print(name)"
      ],
      "metadata": {
        "colab": {
          "base_uri": "https://localhost:8080/"
        },
        "id": "Z32IjgmAGwlU",
        "outputId": "545509b7-9535-4aeb-9fb9-d01a39109e00"
      },
      "execution_count": 27,
      "outputs": [
        {
          "output_type": "stream",
          "name": "stdout",
          "text": [
            "['M', 'O', 'H', 'A', 'N', 'A', '-', 'K', 'R', 'I', 'S', 'H', 'N', 'A']\n"
          ]
        }
      ]
    },
    {
      "cell_type": "code",
      "source": [
        "name=['M','O','H','A','N','A',' ','K','R','I','S','H','N','A']\n",
        "name[0:7]=['m','o','h','a','n','a']\n",
        "print(name)"
      ],
      "metadata": {
        "colab": {
          "base_uri": "https://localhost:8080/"
        },
        "id": "oC0OVxY9H8Qa",
        "outputId": "1001d00a-ba26-4bf1-f64d-cb5a7f395fa2"
      },
      "execution_count": 28,
      "outputs": [
        {
          "output_type": "stream",
          "name": "stdout",
          "text": [
            "['m', 'o', 'h', 'a', 'n', 'a', 'K', 'R', 'I', 'S', 'H', 'N', 'A']\n"
          ]
        }
      ]
    },
    {
      "cell_type": "code",
      "source": [
        "name=['M','O','H','A','N','A',' ','K','R','I','S','H','N','A']\n",
        "name[6:7]=['-','-']\n",
        "print(name)"
      ],
      "metadata": {
        "colab": {
          "base_uri": "https://localhost:8080/"
        },
        "id": "D82kk5WQIjSG",
        "outputId": "1be4d7d2-3d39-431c-bd8e-fe73166ecd4c"
      },
      "execution_count": 29,
      "outputs": [
        {
          "output_type": "stream",
          "name": "stdout",
          "text": [
            "['M', 'O', 'H', 'A', 'N', 'A', '-', '-', 'K', 'R', 'I', 'S', 'H', 'N', 'A']\n"
          ]
        }
      ]
    },
    {
      "cell_type": "code",
      "source": [
        "name=['M','O','H','A','N','A',' ',' ','K','R','I','S','H','N','A']\n",
        "name[6:8]=['-']\n",
        "print(name)"
      ],
      "metadata": {
        "colab": {
          "base_uri": "https://localhost:8080/"
        },
        "id": "-jYm6uL3T9wx",
        "outputId": "948330af-94ee-4fad-84ed-f24f033e3412"
      },
      "execution_count": 30,
      "outputs": [
        {
          "output_type": "stream",
          "name": "stdout",
          "text": [
            "['M', 'O', 'H', 'A', 'N', 'A', '-', 'K', 'R', 'I', 'S', 'H', 'N', 'A']\n"
          ]
        }
      ]
    },
    {
      "cell_type": "code",
      "source": [
        "name=['M','O','H','A','N','A',' ','K','R','I','S','H','N','A']\n",
        "name.insert(6,'-')\n",
        "print(name)"
      ],
      "metadata": {
        "colab": {
          "base_uri": "https://localhost:8080/"
        },
        "id": "BMFNQ07DUrCE",
        "outputId": "8f6afd98-4cc3-4cbc-f02d-ea60b69187c9"
      },
      "execution_count": 31,
      "outputs": [
        {
          "output_type": "stream",
          "name": "stdout",
          "text": [
            "['M', 'O', 'H', 'A', 'N', 'A', '-', ' ', 'K', 'R', 'I', 'S', 'H', 'N', 'A']\n"
          ]
        }
      ]
    },
    {
      "cell_type": "code",
      "source": [
        "name=['M','O','H','A','N','A',' ','K','R','I','S','H','N','A']\n",
        "name.append('.')\n",
        "print(name)"
      ],
      "metadata": {
        "colab": {
          "base_uri": "https://localhost:8080/"
        },
        "id": "VF7VwrweU4Vy",
        "outputId": "d9ed709a-befb-49f7-84c3-bd9710eb5a1c"
      },
      "execution_count": 32,
      "outputs": [
        {
          "output_type": "stream",
          "name": "stdout",
          "text": [
            "['M', 'O', 'H', 'A', 'N', 'A', ' ', 'K', 'R', 'I', 'S', 'H', 'N', 'A', '.']\n"
          ]
        }
      ]
    },
    {
      "cell_type": "code",
      "source": [
        "name=['M','O','H','A','N','A',' ']\n",
        "n2=['K','R','I','S','H','N','A']\n",
        "name.extend(n2)\n",
        "print(name)"
      ],
      "metadata": {
        "colab": {
          "base_uri": "https://localhost:8080/"
        },
        "id": "hev4KYF3VWP9",
        "outputId": "80f05780-63c7-4cb1-8ee3-e8a35701fbd0"
      },
      "execution_count": 33,
      "outputs": [
        {
          "output_type": "stream",
          "name": "stdout",
          "text": [
            "['M', 'O', 'H', 'A', 'N', 'A', ' ', 'K', 'R', 'I', 'S', 'H', 'N', 'A']\n"
          ]
        }
      ]
    },
    {
      "cell_type": "code",
      "source": [
        "name=['M','O','H','A','N','A',' ','K','R','I','S','H','N','A']\n",
        "name.remove(' ')\n",
        "print(name)"
      ],
      "metadata": {
        "colab": {
          "base_uri": "https://localhost:8080/"
        },
        "id": "yGGSsgBPVs9g",
        "outputId": "f4cabd70-028e-4350-b6ce-6b7ff118ef8f"
      },
      "execution_count": 34,
      "outputs": [
        {
          "output_type": "stream",
          "name": "stdout",
          "text": [
            "['M', 'O', 'H', 'A', 'N', 'A', 'K', 'R', 'I', 'S', 'H', 'N', 'A']\n"
          ]
        }
      ]
    },
    {
      "cell_type": "code",
      "source": [
        "name=['M','O','H','A','N','A',' ','K','R','I','S','H','N','A']\n",
        "name.pop(6)\n",
        "print(name)"
      ],
      "metadata": {
        "colab": {
          "base_uri": "https://localhost:8080/"
        },
        "id": "YYdP_a99V-89",
        "outputId": "61ef0623-2036-4c71-8569-1fe7062b49ae"
      },
      "execution_count": 35,
      "outputs": [
        {
          "output_type": "stream",
          "name": "stdout",
          "text": [
            "['M', 'O', 'H', 'A', 'N', 'A', 'K', 'R', 'I', 'S', 'H', 'N', 'A']\n"
          ]
        }
      ]
    },
    {
      "cell_type": "code",
      "source": [
        "name=['M','O','H','A','N','A',' ','K','R','I','S','H','N','A']\n",
        "del name[6]\n",
        "print(name)"
      ],
      "metadata": {
        "colab": {
          "base_uri": "https://localhost:8080/"
        },
        "id": "Xi3NihBpWPQR",
        "outputId": "f4ca8f96-8db2-46ec-aa8a-0378bc0b4a9b"
      },
      "execution_count": 37,
      "outputs": [
        {
          "output_type": "stream",
          "name": "stdout",
          "text": [
            "['M', 'O', 'H', 'A', 'N', 'A', 'K', 'R', 'I', 'S', 'H', 'N', 'A']\n"
          ]
        }
      ]
    },
    {
      "cell_type": "code",
      "source": [
        "name=['M','O','H','A','N','A',' ','K','R','I','S','H','N','A']\n",
        "name.clear()\n",
        "print(name)"
      ],
      "metadata": {
        "colab": {
          "base_uri": "https://localhost:8080/"
        },
        "id": "IXwIFulXWbll",
        "outputId": "623d98f5-f53a-42ea-db77-708db73446de"
      },
      "execution_count": 38,
      "outputs": [
        {
          "output_type": "stream",
          "name": "stdout",
          "text": [
            "[]\n"
          ]
        }
      ]
    },
    {
      "cell_type": "code",
      "source": [
        "name=['M','O','H','A','N','A',' ','K','R','I','S','H','N','A']\n",
        "for i in name:\n",
        "  print(i)"
      ],
      "metadata": {
        "colab": {
          "base_uri": "https://localhost:8080/"
        },
        "id": "88Cat4FPWnj1",
        "outputId": "08f9441b-6a75-4f02-fb06-3eb01f042d95"
      },
      "execution_count": 40,
      "outputs": [
        {
          "output_type": "stream",
          "name": "stdout",
          "text": [
            "M\n",
            "O\n",
            "H\n",
            "A\n",
            "N\n",
            "A\n",
            " \n",
            "K\n",
            "R\n",
            "I\n",
            "S\n",
            "H\n",
            "N\n",
            "A\n"
          ]
        }
      ]
    },
    {
      "cell_type": "code",
      "source": [
        "name=['M','O','H','A','N','A',' ','K','R','I','S','H','N','A']\n",
        "for i in range(len(name)):\n",
        "  print(name[i])"
      ],
      "metadata": {
        "colab": {
          "base_uri": "https://localhost:8080/"
        },
        "id": "lRPnVveYXMAG",
        "outputId": "b15e0060-46e3-40ac-d5ad-9213a6fb2c95"
      },
      "execution_count": 41,
      "outputs": [
        {
          "output_type": "stream",
          "name": "stdout",
          "text": [
            "M\n",
            "O\n",
            "H\n",
            "A\n",
            "N\n",
            "A\n",
            " \n",
            "K\n",
            "R\n",
            "I\n",
            "S\n",
            "H\n",
            "N\n",
            "A\n"
          ]
        }
      ]
    },
    {
      "cell_type": "code",
      "source": [
        "name=['M','O','H','A','N','A',' ','K','R','I','S','H','N','A']\n",
        "i=0\n",
        "while i<len(name):\n",
        "  print(name[i])\n",
        "  i+=1"
      ],
      "metadata": {
        "colab": {
          "base_uri": "https://localhost:8080/"
        },
        "id": "wxX7Y3bHX7jg",
        "outputId": "cd990f93-1a85-4ba8-dd4b-114cbe43ac68"
      },
      "execution_count": 43,
      "outputs": [
        {
          "output_type": "stream",
          "name": "stdout",
          "text": [
            "M\n",
            "O\n",
            "H\n",
            "A\n",
            "N\n",
            "A\n",
            " \n",
            "K\n",
            "R\n",
            "I\n",
            "S\n",
            "H\n",
            "N\n",
            "A\n"
          ]
        }
      ]
    },
    {
      "cell_type": "code",
      "source": [
        "name=['M','O','H','A','N','A',' ','K','R','I','S','H','N','A']\n",
        "[print(x) for x in name]"
      ],
      "metadata": {
        "colab": {
          "base_uri": "https://localhost:8080/"
        },
        "id": "ewONcOvhYNVw",
        "outputId": "5fb8cf2d-7104-4e98-96d1-e16c089bc7b7"
      },
      "execution_count": 48,
      "outputs": [
        {
          "output_type": "stream",
          "name": "stdout",
          "text": [
            "M\n",
            "O\n",
            "H\n",
            "A\n",
            "N\n",
            "A\n",
            " \n",
            "K\n",
            "R\n",
            "I\n",
            "S\n",
            "H\n",
            "N\n",
            "A\n"
          ]
        },
        {
          "output_type": "execute_result",
          "data": {
            "text/plain": [
              "[None,\n",
              " None,\n",
              " None,\n",
              " None,\n",
              " None,\n",
              " None,\n",
              " None,\n",
              " None,\n",
              " None,\n",
              " None,\n",
              " None,\n",
              " None,\n",
              " None,\n",
              " None]"
            ]
          },
          "metadata": {},
          "execution_count": 48
        }
      ]
    },
    {
      "cell_type": "code",
      "source": [
        "name=['M','O','H','A','N','A',' ','K','R','I','S','H','N','A']\n",
        "new=[]\n",
        "for i in name:\n",
        "  new.append(i)\n",
        "print(new)"
      ],
      "metadata": {
        "colab": {
          "base_uri": "https://localhost:8080/"
        },
        "id": "2LddqOttY-ze",
        "outputId": "536b43e8-e2de-4df9-fd54-15362b7551df"
      },
      "execution_count": 49,
      "outputs": [
        {
          "output_type": "stream",
          "name": "stdout",
          "text": [
            "['M', 'O', 'H', 'A', 'N', 'A', ' ', 'K', 'R', 'I', 'S', 'H', 'N', 'A']\n"
          ]
        }
      ]
    },
    {
      "cell_type": "code",
      "source": [
        "name=['M','O','H','A','N','A',' ','K','R','I','S','H','N','A']\n",
        "new=[i for i in name if 'A' in i]\n",
        "print(new)"
      ],
      "metadata": {
        "colab": {
          "base_uri": "https://localhost:8080/"
        },
        "id": "I_btn0yeZeiV",
        "outputId": "4255aeaf-f543-4022-da34-247b26f17418"
      },
      "execution_count": 50,
      "outputs": [
        {
          "output_type": "stream",
          "name": "stdout",
          "text": [
            "['A', 'A', 'A']\n"
          ]
        }
      ]
    },
    {
      "cell_type": "code",
      "source": [
        "name=['M','O','H','A','N','A',' ','K','R','I','S','H','N','A']\n",
        "new=[i for i in name if i!='A']\n",
        "print(new)"
      ],
      "metadata": {
        "colab": {
          "base_uri": "https://localhost:8080/"
        },
        "id": "vzgxhDuyaAS7",
        "outputId": "7d4b7bf2-8d66-4f2a-9f0a-0fcf292d2cb3"
      },
      "execution_count": 51,
      "outputs": [
        {
          "output_type": "stream",
          "name": "stdout",
          "text": [
            "['M', 'O', 'H', 'N', ' ', 'K', 'R', 'I', 'S', 'H', 'N']\n"
          ]
        }
      ]
    },
    {
      "cell_type": "code",
      "source": [
        "name=['M','O','H','A','N','A',' ','K','R','I','S','H','N','A']\n",
        "new=[i for i in name]\n",
        "print(new)"
      ],
      "metadata": {
        "colab": {
          "base_uri": "https://localhost:8080/"
        },
        "id": "DKNMtXQkaMxk",
        "outputId": "6a75a349-7581-41f9-d754-00a4db48ec50"
      },
      "execution_count": 52,
      "outputs": [
        {
          "output_type": "stream",
          "name": "stdout",
          "text": [
            "['M', 'O', 'H', 'A', 'N', 'A', ' ', 'K', 'R', 'I', 'S', 'H', 'N', 'A']\n"
          ]
        }
      ]
    },
    {
      "cell_type": "code",
      "source": [
        "name=['M','O','H','A','N','A','K','R','I','S','H','N','A']\n",
        "new=[i.lower() for i in name]\n",
        "print(new)"
      ],
      "metadata": {
        "colab": {
          "base_uri": "https://localhost:8080/"
        },
        "id": "yaFz9sPJaVHl",
        "outputId": "a3ffa834-de75-4883-ed27-6302baf6d914"
      },
      "execution_count": 55,
      "outputs": [
        {
          "output_type": "stream",
          "name": "stdout",
          "text": [
            "['m', 'o', 'h', 'a', 'n', 'a', 'k', 'r', 'i', 's', 'h', 'n', 'a']\n"
          ]
        }
      ]
    },
    {
      "cell_type": "code",
      "source": [
        "name=['m', 'o', 'h', 'a', 'n', 'a', 'k', 'r', 'i', 's', 'h', 'n', 'a']\n",
        "new=[i.upper() for i in name]\n",
        "print(new)"
      ],
      "metadata": {
        "colab": {
          "base_uri": "https://localhost:8080/"
        },
        "id": "s0T3la2Ra1m6",
        "outputId": "5724ac4c-7413-4864-fb6f-a4df57ea5985"
      },
      "execution_count": 56,
      "outputs": [
        {
          "output_type": "stream",
          "name": "stdout",
          "text": [
            "['M', 'O', 'H', 'A', 'N', 'A', 'K', 'R', 'I', 'S', 'H', 'N', 'A']\n"
          ]
        }
      ]
    },
    {
      "cell_type": "code",
      "source": [
        "name=['m', 'o', 'h', 'a', 'n', 'a', 'k', 'r', 'i', 's', 'h', 'n', 'a']\n",
        "new=[i if i!='a' else 'A' for i in name]\n",
        "print(new)"
      ],
      "metadata": {
        "colab": {
          "base_uri": "https://localhost:8080/"
        },
        "id": "r83NwoBebAuw",
        "outputId": "edf0274e-305d-40e3-89dc-fbb2e120023f"
      },
      "execution_count": 57,
      "outputs": [
        {
          "output_type": "stream",
          "name": "stdout",
          "text": [
            "['m', 'o', 'h', 'A', 'n', 'A', 'k', 'r', 'i', 's', 'h', 'n', 'A']\n"
          ]
        }
      ]
    },
    {
      "cell_type": "code",
      "source": [
        "name=['M','O','H','A','N','A','K','R','I','S','H','N','A']\n",
        "name.sort()\n",
        "print(name)"
      ],
      "metadata": {
        "colab": {
          "base_uri": "https://localhost:8080/"
        },
        "id": "n36mpewDbh1M",
        "outputId": "971e9ce4-123a-4427-9fda-f920414c3d89"
      },
      "execution_count": 58,
      "outputs": [
        {
          "output_type": "stream",
          "name": "stdout",
          "text": [
            "['A', 'A', 'A', 'H', 'H', 'I', 'K', 'M', 'N', 'N', 'O', 'R', 'S']\n"
          ]
        }
      ]
    },
    {
      "cell_type": "code",
      "source": [
        "name=['M','O','H','A','N','A','K','R','I','S','H','N','A']\n",
        "name.sort(reverse=True)\n",
        "print(name)"
      ],
      "metadata": {
        "colab": {
          "base_uri": "https://localhost:8080/"
        },
        "id": "h76lyEpJb0h2",
        "outputId": "389b8ce3-11ac-43a0-db9e-b19b4a2ce516"
      },
      "execution_count": 59,
      "outputs": [
        {
          "output_type": "stream",
          "name": "stdout",
          "text": [
            "['S', 'R', 'O', 'N', 'N', 'M', 'K', 'I', 'H', 'H', 'A', 'A', 'A']\n"
          ]
        }
      ]
    },
    {
      "cell_type": "code",
      "source": [
        "name=['M','O','H','A','N','A','k', 'r', 'i', 's', 'h', 'n', 'a']\n",
        "name.sort()\n",
        "print(name)"
      ],
      "metadata": {
        "colab": {
          "base_uri": "https://localhost:8080/"
        },
        "id": "sHI_oGUMcBhw",
        "outputId": "2bb63ab8-12b8-47bf-f5f5-79fd677c145e"
      },
      "execution_count": 60,
      "outputs": [
        {
          "output_type": "stream",
          "name": "stdout",
          "text": [
            "['A', 'A', 'H', 'M', 'N', 'O', 'a', 'h', 'i', 'k', 'n', 'r', 's']\n"
          ]
        }
      ]
    },
    {
      "cell_type": "code",
      "source": [
        "name=['Mm','Oo','Hh','Aa','Nn','Aa','k', 'r', 'i', 's', 'h', 'n', 'a']\n",
        "name.sort(key=str.lower)\n",
        "print(name)"
      ],
      "metadata": {
        "colab": {
          "base_uri": "https://localhost:8080/"
        },
        "id": "Afl3R2fgcrsv",
        "outputId": "4d9bd3ff-e283-4285-a3ab-d4496b614f38"
      },
      "execution_count": 61,
      "outputs": [
        {
          "output_type": "stream",
          "name": "stdout",
          "text": [
            "['a', 'Aa', 'Aa', 'h', 'Hh', 'i', 'k', 'Mm', 'n', 'Nn', 'Oo', 'r', 's']\n"
          ]
        }
      ]
    },
    {
      "cell_type": "code",
      "source": [
        "name=['M','O','H','A','N','A','K','R','I','S','H','N','A']\n",
        "name.reverse()\n",
        "print(name)"
      ],
      "metadata": {
        "colab": {
          "base_uri": "https://localhost:8080/"
        },
        "id": "g2ZtfguBdBos",
        "outputId": "3b9b7894-0861-4d24-8fb8-2cf043ce4dde"
      },
      "execution_count": 62,
      "outputs": [
        {
          "output_type": "stream",
          "name": "stdout",
          "text": [
            "['A', 'N', 'H', 'S', 'I', 'R', 'K', 'A', 'N', 'A', 'H', 'O', 'M']\n"
          ]
        }
      ]
    },
    {
      "cell_type": "code",
      "source": [
        "name=['M','O','H','A','N','A','K','R','I','S','H','N','A']\n",
        "new=name.copy()\n",
        "print(new)"
      ],
      "metadata": {
        "colab": {
          "base_uri": "https://localhost:8080/"
        },
        "id": "mixh8kesdPVh",
        "outputId": "3668144b-4ea8-4da1-e198-43302ec290de"
      },
      "execution_count": 63,
      "outputs": [
        {
          "output_type": "stream",
          "name": "stdout",
          "text": [
            "['M', 'O', 'H', 'A', 'N', 'A', 'K', 'R', 'I', 'S', 'H', 'N', 'A']\n"
          ]
        }
      ]
    },
    {
      "cell_type": "code",
      "source": [
        "name=['M','O','H','A','N','A','K','R','I','S','H','N','A']\n",
        "new=list(name)\n",
        "print(new)"
      ],
      "metadata": {
        "colab": {
          "base_uri": "https://localhost:8080/"
        },
        "id": "6zqacDzkdjq8",
        "outputId": "5843e62e-68c8-498e-ecf2-4b3ec2c4ce05"
      },
      "execution_count": 64,
      "outputs": [
        {
          "output_type": "stream",
          "name": "stdout",
          "text": [
            "['M', 'O', 'H', 'A', 'N', 'A', 'K', 'R', 'I', 'S', 'H', 'N', 'A']\n"
          ]
        }
      ]
    },
    {
      "cell_type": "code",
      "source": [
        "n1=['M','O','H','A','N','A']\n",
        "n2=['K','R','I','S','H','N','A']\n",
        "n3=n1+n2\n",
        "print(n3)"
      ],
      "metadata": {
        "colab": {
          "base_uri": "https://localhost:8080/"
        },
        "id": "jR0Xq30Ndr4V",
        "outputId": "2275ec5b-b9e6-40ab-8ebf-210e5ad83171"
      },
      "execution_count": 65,
      "outputs": [
        {
          "output_type": "stream",
          "name": "stdout",
          "text": [
            "['M', 'O', 'H', 'A', 'N', 'A', 'K', 'R', 'I', 'S', 'H', 'N', 'A']\n"
          ]
        }
      ]
    },
    {
      "cell_type": "code",
      "source": [
        "n1=['M','O','H','A','N','A']\n",
        "n2=['K','R','I','S','H','N','A']\n",
        "for i in n2:\n",
        "  n1.append(i)\n",
        "print(n1)"
      ],
      "metadata": {
        "colab": {
          "base_uri": "https://localhost:8080/"
        },
        "id": "25YYyZGFeIVK",
        "outputId": "a1a7c22d-c9e8-4735-90e9-1659db567040"
      },
      "execution_count": 66,
      "outputs": [
        {
          "output_type": "stream",
          "name": "stdout",
          "text": [
            "['M', 'O', 'H', 'A', 'N', 'A', 'K', 'R', 'I', 'S', 'H', 'N', 'A']\n"
          ]
        }
      ]
    },
    {
      "cell_type": "code",
      "source": [
        "n1=['M','O','H','A','N','A']\n",
        "n2=['K','R','I','S','H','N','A']\n",
        "n1.extend(n2)\n",
        "print(n1)"
      ],
      "metadata": {
        "colab": {
          "base_uri": "https://localhost:8080/"
        },
        "id": "kuvRKuTweXg5",
        "outputId": "b4503bce-3ce6-4fdb-e3dc-ce529a87f6db"
      },
      "execution_count": 69,
      "outputs": [
        {
          "output_type": "stream",
          "name": "stdout",
          "text": [
            "['M', 'O', 'H', 'A', 'N', 'A', 'K', 'R', 'I', 'S', 'H', 'N', 'A']\n"
          ]
        }
      ]
    },
    {
      "cell_type": "code",
      "source": [
        ""
      ],
      "metadata": {
        "id": "EZtCWxl5ewMi"
      },
      "execution_count": null,
      "outputs": []
    }
  ]
}